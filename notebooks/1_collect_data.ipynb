{
 "cells": [
  {
   "metadata": {},
   "cell_type": "markdown",
   "source": [
    "# Recolección de datos\n",
    "\n",
    "Hecha la investigación para identificar fuentes confiables de datos, vamos a proceder a descargar los valores históricos de los activos e índices deseados, para posteriormente utilizarlos en la construcción de modelos."
   ],
   "id": "cee1a44dcb1646de"
  },
  {
   "metadata": {},
   "cell_type": "markdown",
   "source": "Importamos las dependencias necesarias:",
   "id": "ed84e868e59824d3"
  },
  {
   "cell_type": "code",
   "id": "initial_id",
   "metadata": {
    "collapsed": true,
    "ExecuteTime": {
     "end_time": "2025-06-15T14:06:23.484788Z",
     "start_time": "2025-06-15T14:06:23.472545Z"
    }
   },
   "source": [
    "import requests\n",
    "import pandas as pd\n",
    "import yfinance as yf\n",
    "from pathlib import Path\n",
    "from pytrends.request import TrendReq\n",
    "from datetime import datetime, timedelta\n",
    "\n",
    "from dotenv import load_dotenv\n",
    "import os\n",
    "\n",
    "# Cargar variables desde el archivo .env\n",
    "load_dotenv()"
   ],
   "outputs": [
    {
     "data": {
      "text/plain": [
       "True"
      ]
     },
     "execution_count": 24,
     "metadata": {},
     "output_type": "execute_result"
    }
   ],
   "execution_count": 24
  },
  {
   "metadata": {},
   "cell_type": "markdown",
   "source": "Lo primero es obtener los datos históricos diarios del precio de bitcoin, disponibles en yahoo finance:",
   "id": "96638148433533c2"
  },
  {
   "metadata": {
    "ExecuteTime": {
     "end_time": "2025-06-15T14:06:27.918795Z",
     "start_time": "2025-06-15T14:06:25.423382Z"
    }
   },
   "cell_type": "code",
   "source": [
    "# Descargar histórico completo de BTC/USD desde 2009 (o el mayor histórico disponible)\n",
    "btc = yf.download(\"BTC-USD\", start=\"2009-01-01\")"
   ],
   "id": "cdc86a3c7f20dc3a",
   "outputs": [
    {
     "name": "stderr",
     "output_type": "stream",
     "text": [
      "/var/folders/c_/rq9m5qb17jsg0xbdp8j28n2c0000gn/T/ipykernel_5861/947041190.py:2: FutureWarning: YF.download() has changed argument auto_adjust default to True\n",
      "  btc = yf.download(\"BTC-USD\", start=\"2009-01-01\")\n",
      "[*********************100%***********************]  1 of 1 completed\n"
     ]
    }
   ],
   "execution_count": 25
  },
  {
   "metadata": {},
   "cell_type": "markdown",
   "source": "Revisamos la primera fecha para la que tenemos disponible el precio, de tal forma de utilizar como fecha base para obtener el resto de activos o índices a utilizar, además de conocer de forma temprana el período de tiempo para el que podremos trabajar:",
   "id": "d86645228d81eb7d"
  },
  {
   "metadata": {
    "ExecuteTime": {
     "end_time": "2025-06-15T14:06:27.936348Z",
     "start_time": "2025-06-15T14:06:27.933860Z"
    }
   },
   "cell_type": "code",
   "source": [
    "start_date = btc.index.min()\n",
    "print(\"Primera fecha disponible:\", start_date.date())"
   ],
   "id": "4ed299cce43a8137",
   "outputs": [
    {
     "name": "stdout",
     "output_type": "stream",
     "text": [
      "Primera fecha disponible: 2014-09-17\n"
     ]
    }
   ],
   "execution_count": 26
  },
  {
   "metadata": {
    "ExecuteTime": {
     "end_time": "2025-06-15T14:06:29.170217Z",
     "start_time": "2025-06-15T14:06:29.138592Z"
    }
   },
   "cell_type": "code",
   "source": [
    "# Crear carpeta si no existe\n",
    "output_dir = \"../datasets/btc\"\n",
    "os.makedirs(output_dir, exist_ok=True)\n",
    "\n",
    "# Agrupar por año\n",
    "for year in btc.index.year.unique():\n",
    "    btc_year = btc[btc.index.year == year]\n",
    "    output_path = os.path.join(output_dir, f\"btc_{year}.csv\")\n",
    "    btc_year.to_csv(output_path)"
   ],
   "id": "e730b1823b3a271d",
   "outputs": [],
   "execution_count": 27
  },
  {
   "metadata": {},
   "cell_type": "markdown",
   "source": "Aprovechamos la biblioteca de yahoo finance para obtener valores de otros activos: Ethereum, Oro y los índices S&P 500 y DXY (dollar index):",
   "id": "44a8451974189c26"
  },
  {
   "metadata": {
    "ExecuteTime": {
     "end_time": "2025-06-15T14:06:45.367950Z",
     "start_time": "2025-06-15T14:06:39.879611Z"
    }
   },
   "cell_type": "code",
   "source": [
    "# Lista de activos: (activo, símbolo_yfinance)\n",
    "assets = [\n",
    "    (\"eth\", \"ETH-USD\"),\n",
    "    (\"gold\", \"GC=F\"),\n",
    "    (\"sp500\", \"^GSPC\"),\n",
    "    (\"dxy\", \"DX-Y.NYB\")\n",
    "]\n",
    "\n",
    "for name, symbol in assets:\n",
    "    print(f\"⬇ Descargando datos de {name.upper()} ({symbol})...\")\n",
    "    data = yf.download(symbol, start=start_date.date(), auto_adjust=True)\n",
    "\n",
    "    # Crear carpeta de salida: datasets/{activo}\n",
    "    output_dir = Path(\"../datasets\") / name\n",
    "    output_dir.mkdir(parents=True, exist_ok=True)\n",
    "\n",
    "    # Agrupar por año\n",
    "    for year in data.index.year.unique():\n",
    "        data_year = data[data.index.year == year]\n",
    "        output_path = os.path.join(output_dir, f\"{name}_{year}.csv\")\n",
    "        data_year.to_csv(output_path)\n",
    "\n",
    "    print(f\"✔ Datos de {name.upper()} guardados en: {output_dir.resolve()}\\n\")"
   ],
   "id": "a7a1412e1d617faa",
   "outputs": [
    {
     "name": "stdout",
     "output_type": "stream",
     "text": [
      "⬇ Descargando datos de ETH (ETH-USD)...\n"
     ]
    },
    {
     "name": "stderr",
     "output_type": "stream",
     "text": [
      "[*********************100%***********************]  1 of 1 completed\n"
     ]
    },
    {
     "name": "stdout",
     "output_type": "stream",
     "text": [
      "✔ Datos de ETH guardados en: /Users/cbarril/dev/posgrado/tp_ast1_19co2024/datasets/eth\n",
      "\n",
      "⬇ Descargando datos de GOLD (GC=F)...\n"
     ]
    },
    {
     "name": "stderr",
     "output_type": "stream",
     "text": [
      "[*********************100%***********************]  1 of 1 completed\n"
     ]
    },
    {
     "name": "stdout",
     "output_type": "stream",
     "text": [
      "✔ Datos de GOLD guardados en: /Users/cbarril/dev/posgrado/tp_ast1_19co2024/datasets/gold\n",
      "\n",
      "⬇ Descargando datos de SP500 (^GSPC)...\n"
     ]
    },
    {
     "name": "stderr",
     "output_type": "stream",
     "text": [
      "[*********************100%***********************]  1 of 1 completed\n"
     ]
    },
    {
     "name": "stdout",
     "output_type": "stream",
     "text": [
      "✔ Datos de SP500 guardados en: /Users/cbarril/dev/posgrado/tp_ast1_19co2024/datasets/sp500\n",
      "\n",
      "⬇ Descargando datos de DXY (DX-Y.NYB)...\n"
     ]
    },
    {
     "name": "stderr",
     "output_type": "stream",
     "text": [
      "[*********************100%***********************]  1 of 1 completed"
     ]
    },
    {
     "name": "stdout",
     "output_type": "stream",
     "text": [
      "✔ Datos de DXY guardados en: /Users/cbarril/dev/posgrado/tp_ast1_19co2024/datasets/dxy\n",
      "\n"
     ]
    },
    {
     "name": "stderr",
     "output_type": "stream",
     "text": [
      "\n"
     ]
    }
   ],
   "execution_count": 28
  },
  {
   "metadata": {},
   "cell_type": "markdown",
   "source": [
    "De Google Trends descargamos los datos relativos a las búsquedas de bitcoin a lo largo del tiempo.\n",
    "Google Trends maneja valores entre 0 y 100."
   ],
   "id": "bc1a1698c836ca61"
  },
  {
   "metadata": {
    "ExecuteTime": {
     "end_time": "2025-06-15T14:08:35.269935Z",
     "start_time": "2025-06-15T14:06:57.586253Z"
    }
   },
   "cell_type": "code",
   "source": [
    "import time\n",
    "\n",
    "# --- Parámetros de Google Trends ------------------------------------\n",
    "kw_list   = [\"bitcoin\"]\n",
    "start_date_gt = start_date.to_pydatetime()\n",
    "end_date_gt   = datetime(2025, 6, 15)\n",
    "delta      = timedelta(days=270)            # rango máximo permitido\n",
    "pytrends   = TrendReq(hl=\"en-US\", tz=0)\n",
    "\n",
    "# --- Directorio de salida -------------------------------------------\n",
    "output_dir = \"../datasets/trend\"\n",
    "os.makedirs(output_dir, exist_ok=True)\n",
    "\n",
    "# --- Descarga por tramos y guarda por año ---------------------------\n",
    "current_start = start_date_gt\n",
    "\n",
    "while current_start < end_date_gt:\n",
    "    # El rango superior es inclusivo, por eso restamos un día cuando superamos end_date\n",
    "    current_end = min(current_start + delta, end_date_gt)\n",
    "    timeframe   = f\"{current_start:%Y-%m-%d} {current_end:%Y-%m-%d}\"\n",
    "    print(timeframe)\n",
    "\n",
    "    try:\n",
    "        pytrends.build_payload(kw_list, cat=0, timeframe=timeframe, geo=\"\", gprop=\"\")\n",
    "        data = pytrends.interest_over_time()\n",
    "\n",
    "        # Salta rangos sin datos\n",
    "        if data.empty:\n",
    "            print(f\"No hay datos para: {timeframe}\")\n",
    "        else:\n",
    "            # Limpieza: quita la columna 'isPartial' si existe\n",
    "            data = data.drop(columns=\"isPartial\", errors=\"ignore\")\n",
    "\n",
    "            #  Agrupar por año y escribir/añadir CSV\n",
    "            for year, year_df in data.groupby(data.index.year):\n",
    "                filename      = f\"{output_dir}/bitcoin_trend_{year}.csv\"\n",
    "                write_header  = not os.path.isfile(filename) # 1º vez → incluye encabezado\n",
    "                year_df.to_csv(filename, mode=\"a\", header=write_header)\n",
    "                print(f\"✓ Guardado/actualizado: {filename}\")\n",
    "\n",
    "    except Exception as e:\n",
    "        print(f\"Error al procesar {timeframe}: {e}\")\n",
    "\n",
    "    # Avanza un día después del último día descargado para evitar solaparse\n",
    "    current_start = current_end + timedelta(days=1)\n",
    "    time.sleep(5)"
   ],
   "id": "f78efbde6f498ba5",
   "outputs": [
    {
     "name": "stdout",
     "output_type": "stream",
     "text": [
      "2014-09-17 2015-06-14\n",
      "Error al procesar 2014-09-17 2015-06-14: The request failed: Google returned a response with code 429\n",
      "2015-06-15 2016-03-11\n",
      "Error al procesar 2015-06-15 2016-03-11: The request failed: Google returned a response with code 429\n",
      "2016-03-12 2016-12-07\n",
      "Error al procesar 2016-03-12 2016-12-07: The request failed: Google returned a response with code 429\n",
      "2016-12-08 2017-09-04\n",
      "Error al procesar 2016-12-08 2017-09-04: The request failed: Google returned a response with code 429\n",
      "2017-09-05 2018-06-02\n",
      "Error al procesar 2017-09-05 2018-06-02: The request failed: Google returned a response with code 429\n",
      "2018-06-03 2019-02-28\n",
      "Error al procesar 2018-06-03 2019-02-28: The request failed: Google returned a response with code 429\n",
      "2019-03-01 2019-11-26\n",
      "✓ Guardado/actualizado: ../datasets/trend/bitcoin_trend_2019.csv\n",
      "2019-11-27 2020-08-23\n",
      "Error al procesar 2019-11-27 2020-08-23: The request failed: Google returned a response with code 429\n",
      "2020-08-24 2021-05-21\n",
      "✓ Guardado/actualizado: ../datasets/trend/bitcoin_trend_2020.csv\n",
      "✓ Guardado/actualizado: ../datasets/trend/bitcoin_trend_2021.csv\n",
      "2021-05-22 2022-02-16\n",
      "✓ Guardado/actualizado: ../datasets/trend/bitcoin_trend_2021.csv\n",
      "✓ Guardado/actualizado: ../datasets/trend/bitcoin_trend_2022.csv\n",
      "2022-02-17 2022-11-14\n",
      "✓ Guardado/actualizado: ../datasets/trend/bitcoin_trend_2022.csv\n",
      "2022-11-15 2023-08-12\n",
      "✓ Guardado/actualizado: ../datasets/trend/bitcoin_trend_2022.csv\n",
      "✓ Guardado/actualizado: ../datasets/trend/bitcoin_trend_2023.csv\n",
      "2023-08-13 2024-05-09\n",
      "✓ Guardado/actualizado: ../datasets/trend/bitcoin_trend_2023.csv\n",
      "✓ Guardado/actualizado: ../datasets/trend/bitcoin_trend_2024.csv\n",
      "2024-05-10 2025-02-04\n",
      "✓ Guardado/actualizado: ../datasets/trend/bitcoin_trend_2024.csv\n",
      "✓ Guardado/actualizado: ../datasets/trend/bitcoin_trend_2025.csv\n",
      "2025-02-05 2025-06-15\n"
     ]
    },
    {
     "name": "stderr",
     "output_type": "stream",
     "text": [
      "/Users/cbarril/dev/posgrado/tp_ast1_19co2024/ast1/lib/python3.12/site-packages/pytrends/request.py:260: FutureWarning: Downcasting object dtype arrays on .fillna, .ffill, .bfill is deprecated and will change in a future version. Call result.infer_objects(copy=False) instead. To opt-in to the future behavior, set `pd.set_option('future.no_silent_downcasting', True)`\n",
      "  df = df.fillna(False)\n"
     ]
    },
    {
     "name": "stdout",
     "output_type": "stream",
     "text": [
      "✓ Guardado/actualizado: ../datasets/trend/bitcoin_trend_2025.csv\n"
     ]
    }
   ],
   "execution_count": 29
  },
  {
   "metadata": {},
   "cell_type": "markdown",
   "source": "Tuvimos algunos problemas con la API de Google Trends, pero todos los datos necesarios fueron descargados luego de algunos intentos.",
   "id": "fbcd10a8af8073ad"
  },
  {
   "metadata": {},
   "cell_type": "markdown",
   "source": "Obtenemos de la API de Alternative los datos del índice de miedo y codicia:",
   "id": "9a8fb2113b35d551"
  },
  {
   "metadata": {
    "ExecuteTime": {
     "end_time": "2025-06-15T14:25:49.966158Z",
     "start_time": "2025-06-15T14:25:49.050906Z"
    }
   },
   "cell_type": "code",
   "source": [
    "# --- Directorio de salida -------------------------------------------\n",
    "output_dir = \"../datasets/fear_and_greed_index\"\n",
    "os.makedirs(output_dir, exist_ok=True)\n",
    "\n",
    "url = \"https://api.alternative.me/fng/?limit=0&format=json\"\n",
    "response = requests.get(url)\n",
    "data = response.json()[\"data\"]\n",
    "\n",
    "# Convertir a DataFrame\n",
    "df = pd.DataFrame(data)\n",
    "df['timestamp'] = pd.to_datetime(df['timestamp'].astype(int), unit='s')\n",
    "df['value'] = df['value'].astype(int)\n",
    "df = df.sort_values('timestamp')\n",
    "\n",
    "# Ver columnas disponibles\n",
    "print(df.head())\n",
    "\n",
    "# Guardar\n",
    "filename = f\"{output_dir}/fear_and_greed_index.csv\"\n",
    "df.to_csv(filename, index=False)\n",
    "\n",
    "print(f\"✔ Datos de fear and greed index guardados en: {filename}\\n\")"
   ],
   "id": "22c2c694e68bf2f",
   "outputs": [
    {
     "name": "stdout",
     "output_type": "stream",
     "text": [
      "      value value_classification  timestamp time_until_update\n",
      "2687     30                 Fear 2018-02-01               NaN\n",
      "2686     15         Extreme Fear 2018-02-02               NaN\n",
      "2685     40                 Fear 2018-02-03               NaN\n",
      "2684     24         Extreme Fear 2018-02-04               NaN\n",
      "2683     11         Extreme Fear 2018-02-05               NaN\n",
      "✔ Datos de fear and greed index guardados en: ../datasets/fear_and_greed_index/fear_and_greed_index.csv\n",
      "\n"
     ]
    }
   ],
   "execution_count": 34
  },
  {
   "metadata": {},
   "cell_type": "markdown",
   "source": "Importante identificar que solo contamos con datos desde el 2018. Veremos luego si es útil este índice o debemos prescindir de él.",
   "id": "78dcc05f44676195"
  },
  {
   "metadata": {},
   "cell_type": "markdown",
   "source": "Obtenemos otra información que suele relacionarse a tendencias en bitcoin, que es la cantidad de direcciones (billeteras) activas.",
   "id": "e1779e7d60271690"
  },
  {
   "metadata": {
    "ExecuteTime": {
     "end_time": "2025-06-15T14:10:11.049476Z",
     "start_time": "2025-06-15T14:10:10.122880Z"
    }
   },
   "cell_type": "code",
   "source": [
    "# --- Descargar datos de direcciones activas ---------------------\n",
    "url = \"https://api.blockchain.info/charts/n-unique-addresses?timespan=all&format=csv\"\n",
    "df = pd.read_csv(url)\n",
    "df.columns = ['date', 'active_addresses']\n",
    "df['date'] = pd.to_datetime(df['date'])\n",
    "\n",
    "# --- Filtrar desde start_date -----------------------------------\n",
    "df = df[df['date'] >= start_date]\n",
    "\n",
    "# --- Crear carpeta destino --------------------------------------\n",
    "base_path = \"../datasets/active_addresses\"\n",
    "os.makedirs(base_path, exist_ok=True)\n",
    "\n",
    "# --- Separar y guardar por año ----------------------------------\n",
    "for year, group in df.groupby(df['date'].dt.year):\n",
    "    file_path = os.path.join(base_path, f\"active_addresses_{year}.csv\")\n",
    "    group.to_csv(file_path, index=False)\n",
    "    print(f\"✓ Guardado: {file_path}\")"
   ],
   "id": "a5e31592098d333",
   "outputs": [
    {
     "name": "stdout",
     "output_type": "stream",
     "text": [
      "✓ Guardado: ../datasets/active_addresses/active_addresses_2014.csv\n",
      "✓ Guardado: ../datasets/active_addresses/active_addresses_2015.csv\n",
      "✓ Guardado: ../datasets/active_addresses/active_addresses_2016.csv\n",
      "✓ Guardado: ../datasets/active_addresses/active_addresses_2017.csv\n",
      "✓ Guardado: ../datasets/active_addresses/active_addresses_2018.csv\n",
      "✓ Guardado: ../datasets/active_addresses/active_addresses_2019.csv\n",
      "✓ Guardado: ../datasets/active_addresses/active_addresses_2020.csv\n",
      "✓ Guardado: ../datasets/active_addresses/active_addresses_2021.csv\n",
      "✓ Guardado: ../datasets/active_addresses/active_addresses_2022.csv\n",
      "✓ Guardado: ../datasets/active_addresses/active_addresses_2023.csv\n",
      "✓ Guardado: ../datasets/active_addresses/active_addresses_2024.csv\n",
      "✓ Guardado: ../datasets/active_addresses/active_addresses_2025.csv\n"
     ]
    }
   ],
   "execution_count": 31
  },
  {
   "metadata": {},
   "cell_type": "markdown",
   "source": "Finalmente, de la API de la FED de St Louis, previo gestión de una API_KEY, obtenemos los datos históricos de la tasa de interés:",
   "id": "92bc1c87fc4df53f"
  },
  {
   "metadata": {
    "ExecuteTime": {
     "end_time": "2025-06-15T14:10:15.834500Z",
     "start_time": "2025-06-15T14:10:14.352549Z"
    }
   },
   "cell_type": "code",
   "source": [
    "# --- Clave de API y parámetros para la FED ----------------------\n",
    "fed_api_key = os.getenv(\"FED_API_KEY\")\n",
    "series_id = \"FEDFUNDS\"\n",
    "url = \"https://api.stlouisfed.org/fred/series/observations\"\n",
    "params = {\n",
    "    \"series_id\": series_id,\n",
    "    \"api_key\": fed_api_key,\n",
    "    \"file_type\": \"json\",\n",
    "}\n",
    "\n",
    "# --- Llamado a la API -------------------------------------------\n",
    "response = requests.get(url, params=params)\n",
    "data = response.json()[\"observations\"]\n",
    "\n",
    "# --- Crear DataFrame --------------------------------------------\n",
    "df = pd.DataFrame(data)[[\"date\", \"value\"]]\n",
    "df.columns = [\"date\", \"interest_rate\"]\n",
    "df[\"date\"] = pd.to_datetime(df[\"date\"])\n",
    "df[\"interest_rate\"] = pd.to_numeric(df[\"interest_rate\"], errors=\"coerce\")\n",
    "\n",
    "# --- Filtrar desde la fecha de inicio --------------------------\n",
    "df = df[df[\"date\"] >= start_date]\n",
    "\n",
    "# --- Crear carpeta y guardar archivos por año ------------------\n",
    "output_dir = \"../datasets/interest_rate\"\n",
    "os.makedirs(output_dir, exist_ok=True)\n",
    "\n",
    "for year, group in df.groupby(df[\"date\"].dt.year):\n",
    "    file_path = os.path.join(output_dir, f\"interest_rate_{year}.csv\")\n",
    "    group.to_csv(file_path, index=False)\n",
    "    print(f\"✓ Guardado: {file_path}\")\n"
   ],
   "id": "4d19fffec8fd7cf3",
   "outputs": [
    {
     "name": "stdout",
     "output_type": "stream",
     "text": [
      "✓ Guardado: ../datasets/interest_rate/interest_rate_2014.csv\n",
      "✓ Guardado: ../datasets/interest_rate/interest_rate_2015.csv\n",
      "✓ Guardado: ../datasets/interest_rate/interest_rate_2016.csv\n",
      "✓ Guardado: ../datasets/interest_rate/interest_rate_2017.csv\n",
      "✓ Guardado: ../datasets/interest_rate/interest_rate_2018.csv\n",
      "✓ Guardado: ../datasets/interest_rate/interest_rate_2019.csv\n",
      "✓ Guardado: ../datasets/interest_rate/interest_rate_2020.csv\n",
      "✓ Guardado: ../datasets/interest_rate/interest_rate_2021.csv\n",
      "✓ Guardado: ../datasets/interest_rate/interest_rate_2022.csv\n",
      "✓ Guardado: ../datasets/interest_rate/interest_rate_2023.csv\n",
      "✓ Guardado: ../datasets/interest_rate/interest_rate_2024.csv\n",
      "✓ Guardado: ../datasets/interest_rate/interest_rate_2025.csv\n"
     ]
    }
   ],
   "execution_count": 32
  }
 ],
 "metadata": {
  "kernelspec": {
   "display_name": "Python (ast1)",
   "language": "python",
   "name": "ast1"
  },
  "language_info": {
   "codemirror_mode": {
    "name": "ipython",
    "version": 2
   },
   "file_extension": ".py",
   "mimetype": "text/x-python",
   "name": "python",
   "nbconvert_exporter": "python",
   "pygments_lexer": "ipython2",
   "version": "2.7.6"
  }
 },
 "nbformat": 4,
 "nbformat_minor": 5
}
